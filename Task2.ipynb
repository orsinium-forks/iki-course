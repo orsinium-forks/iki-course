{
 "cells": [
  {
   "cell_type": "markdown",
   "metadata": {},
   "source": [
    "**За это задание можно получить максимум 25 баллов: это означает, что вы можете делать те задачи, которые вам нравятся, и к чему у вас больше лежит душа.**"
   ]
  },
  {
   "cell_type": "markdown",
   "metadata": {},
   "source": [
    "# Простые задачи (8 баллов)"
   ]
  },
  {
   "cell_type": "markdown",
   "metadata": {},
   "source": [
    "- (2 балла) Нарисуйте вашу любимую функцию в 3d в вашей любимой [цветовой схеме](https://matplotlib.org/users/colormaps.html)"
   ]
  },
  {
   "cell_type": "code",
   "execution_count": null,
   "metadata": {},
   "outputs": [],
   "source": [
    "# Ваш код"
   ]
  },
  {
   "cell_type": "markdown",
   "metadata": {},
   "source": [
    "- (4 балла) Напишите функцию, которая бы для файла `data/nans.txt` показывала бы значение y от любого x в пределах (-10, -1). Если x не влазит в эти пределы, то вернуть nan. x может быть как вектором так и скаляром. NaN-ы из данных, конечно, надо убрать\n",
    "    - (2 балла) Написать [docstring](https://numpydoc.readthedocs.io/en/latest/format.html) к этой функции"
   ]
  },
  {
   "cell_type": "code",
   "execution_count": 3,
   "metadata": {},
   "outputs": [],
   "source": [
    "def some_function(x):\n",
    "    # Ваш код\n",
    "    return y"
   ]
  },
  {
   "cell_type": "markdown",
   "metadata": {},
   "source": [
    "# Продаем разрешение получаем меньше шума  (10 баллов)"
   ]
  },
  {
   "cell_type": "markdown",
   "metadata": {},
   "source": [
    "-  Один из самых известных и эффективных способов убрать шум с данных это так называемое [скользящее среднее](https://ru.wikipedia.org/wiki/%D0%A1%D0%BA%D0%BE%D0%BB%D1%8C%D0%B7%D1%8F%D1%89%D0%B0%D1%8F_%D1%81%D1%80%D0%B5%D0%B4%D0%BD%D1%8F%D1%8F). Вкартце, суть этого метода заключается в том, что в каждая точка в векторе заменяется средним из n соседних точек, где n - размер окна. Таким образом, наше временное/пространственное/спектральное разрешение уменьшается, но при этом уменьшается шум.\n",
    "    - (6 баллов) Реализуйте функцию, принимающую на вход вектор из данных и размер окна и возвращающую уже усредненные данные"
   ]
  },
  {
   "cell_type": "code",
   "execution_count": null,
   "metadata": {},
   "outputs": [],
   "source": [
    "def sliding_average(y, n=10):\n",
    "    # Ваш код\n",
    "    return res"
   ]
  },
  {
   "cell_type": "markdown",
   "metadata": {},
   "source": [
    "   - (4 балла) А теперь напишите докстинг и оцените во сколько раз упал шум"
   ]
  },
  {
   "cell_type": "code",
   "execution_count": null,
   "metadata": {},
   "outputs": [],
   "source": [
    "# Ваш код"
   ]
  },
  {
   "cell_type": "markdown",
   "metadata": {},
   "source": [
    "# Как курица лапой (15 баллов)\n",
    "В директории `data/alphabet` лежит куча картинок размера (28,28) с буквами из английского алфавита. Каждая субдиректория называется по имени буквы, в каждой такой субдиректории живут картинки соответствующей буквы и всякий мусор &ndash; какие-то левые txt файлы и картинки. Вам нужно построить то, как люди в среднем рисуют каждую букву."
   ]
  },
  {
   "cell_type": "markdown",
   "metadata": {},
   "source": [
    "- (3 баллов) Получить список всех файлов во одной субдиректории"
   ]
  },
  {
   "cell_type": "code",
   "execution_count": null,
   "metadata": {},
   "outputs": [],
   "source": [
    "# Ваш код"
   ]
  },
  {
   "cell_type": "markdown",
   "metadata": {},
   "source": [
    "- (3 баллов) Отсортировать только нужные файлы из этого списка"
   ]
  },
  {
   "cell_type": "code",
   "execution_count": null,
   "metadata": {},
   "outputs": [],
   "source": [
    "# Ваш код"
   ]
  },
  {
   "cell_type": "markdown",
   "metadata": {},
   "source": [
    "- (9 баллов) Пройтись по всем субдиректориям, получить и нарисовать среднее изображение для каждой буквы"
   ]
  },
  {
   "cell_type": "code",
   "execution_count": 2,
   "metadata": {},
   "outputs": [],
   "source": [
    "import string\n",
    "\n",
    "letters = list(string.ascii_uppercase) # подсказочка\n",
    "\n",
    "# Ваш код"
   ]
  }
 ],
 "metadata": {
  "kernelspec": {
   "display_name": "Python 3",
   "language": "python",
   "name": "python3"
  },
  "language_info": {
   "codemirror_mode": {
    "name": "ipython",
    "version": 3
   },
   "file_extension": ".py",
   "mimetype": "text/x-python",
   "name": "python",
   "nbconvert_exporter": "python",
   "pygments_lexer": "ipython3",
   "version": "3.6.6"
  }
 },
 "nbformat": 4,
 "nbformat_minor": 2
}
